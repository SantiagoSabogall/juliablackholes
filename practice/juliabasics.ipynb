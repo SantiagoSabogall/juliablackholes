{
 "cells": [
  {
   "cell_type": "markdown",
   "id": "31c94804",
   "metadata": {},
   "source": [
    "## Funciones"
   ]
  },
  {
   "cell_type": "code",
   "execution_count": 1,
   "id": "074dfb9c",
   "metadata": {},
   "outputs": [
    {
     "name": "stdout",
     "output_type": "stream",
     "text": [
      "esta es mi primera funcion9.869604401089358\n"
     ]
    }
   ],
   "source": [
    "function f(x)\n",
    "    a = x^2\n",
    "    return println(\"esta es mi primera funcion\", a)\n",
    "end\n",
    "f(pi)"
   ]
  },
  {
   "cell_type": "code",
   "execution_count": 2,
   "id": "d919fe9c",
   "metadata": {},
   "outputs": [
    {
     "data": {
      "text/plain": [
       "\"positivo\""
      ]
     },
     "metadata": {},
     "output_type": "display_data"
    }
   ],
   "source": [
    "function signo(x)\n",
    "    if x > 0\n",
    "        return \"positivo\"\n",
    "    elseif x < 0\n",
    "        return \"negativo\"\n",
    "    else\n",
    "        return \"cero\"\n",
    "    end\n",
    "    \n",
    "end\n",
    "\n",
    "signo(5)"
   ]
  },
  {
   "cell_type": "code",
   "execution_count": 3,
   "id": "2e3adb5f",
   "metadata": {},
   "outputs": [
    {
     "name": "stdout",
     "output_type": "stream",
     "text": [
      "20\n",
      "5.0\n"
     ]
    }
   ],
   "source": [
    "function escala(x, factor)\n",
    "    return x * factor\n",
    "end\n",
    "\n",
    "println(escala(10, 2))\n",
    "println(escala(10, 0.5))"
   ]
  },
  {
   "cell_type": "code",
   "execution_count": 4,
   "id": "9e370fbe",
   "metadata": {},
   "outputs": [
    {
     "data": {
      "text/plain": [
       "20"
      ]
     },
     "metadata": {},
     "output_type": "display_data"
    }
   ],
   "source": [
    "function afina(x, base, factor)\n",
    "    return base  + factor * x\n",
    "end\n",
    "\n",
    "afina(5, 10, 2)"
   ]
  },
  {
   "cell_type": "code",
   "execution_count": 5,
   "id": "120c1def",
   "metadata": {},
   "outputs": [
    {
     "name": "stdout",
     "output_type": "stream",
     "text": [
      "mean: 2.0, median: 2, range: 2\n"
     ]
    }
   ],
   "source": [
    "function stats_basics(a,b,c)\n",
    "    mean = (a + b + c) / 3\n",
    "    median = sort([a, b, c])[2]\n",
    "    range = maximum([a, b, c]) - minimum([a, b, c])\n",
    "    return println(\"mean: $mean, median: $median, range: $range\")\n",
    "    \n",
    "end\n",
    "stats_basics(1, 2, 3)"
   ]
  },
  {
   "cell_type": "markdown",
   "id": "7c3c08d4",
   "metadata": {},
   "source": [
    "## Condicionales\n",
    "\n",
    "\n"
   ]
  },
  {
   "cell_type": "code",
   "execution_count": 6,
   "id": "28fa006f",
   "metadata": {},
   "outputs": [
    {
     "name": "stdout",
     "output_type": "stream",
     "text": [
      "x es positivo\n"
     ]
    }
   ],
   "source": [
    "x = 10 \n",
    "if x > 0\n",
    "    println(\"x es positivo\")\n",
    "elseif x < 0\n",
    "    println(\"x es negativo\")\n",
    "else\n",
    "    println(\"x es cero\")\n",
    "end"
   ]
  },
  {
   "cell_type": "markdown",
   "id": "903cd6ff",
   "metadata": {},
   "source": [
    "## Bucles\n"
   ]
  },
  {
   "cell_type": "code",
   "execution_count": 7,
   "id": "71d7818d",
   "metadata": {},
   "outputs": [
    {
     "name": "stdout",
     "output_type": "stream",
     "text": [
      "i = 0\n",
      "i = 1\n",
      "i = 2\n",
      "i = 3\n",
      "i = 4\n",
      "i = 5\n",
      "i = 6\n",
      "i = 7\n",
      "i = 8\n",
      "i = 9\n",
      "i = 10\n"
     ]
    }
   ],
   "source": [
    "for i in 0:10\n",
    "    println(\"i = \", i)\n",
    "end\n",
    "\n"
   ]
  },
  {
   "cell_type": "code",
   "execution_count": 8,
   "id": "c75f4512",
   "metadata": {},
   "outputs": [
    {
     "name": "stdout",
     "output_type": "stream",
     "text": [
      "a\n",
      "b\n",
      "c\n"
     ]
    }
   ],
   "source": [
    "for letra in [\"a\", \"b\", \"c\"]\n",
    "    println(letra)\n",
    "end\n"
   ]
  },
  {
   "cell_type": "code",
   "execution_count": 9,
   "id": "9ec54a81",
   "metadata": {},
   "outputs": [
    {
     "name": "stdout",
     "output_type": "stream",
     "text": [
      "1\n",
      "2\n",
      "3\n",
      "4\n",
      "5\n"
     ]
    }
   ],
   "source": [
    "i = 1\n",
    "while i ≤ 5\n",
    "    println(i)\n",
    "    i += 1\n",
    "end\n",
    "\n"
   ]
  },
  {
   "cell_type": "code",
   "execution_count": 10,
   "id": "3d9e8b91",
   "metadata": {},
   "outputs": [
    {
     "ename": "MethodError",
     "evalue": "MethodError: no method matching f(::Int64, ::Float64)\nThe function `f` exists, but no method is defined for this combination of argument types.\n\nClosest candidates are:\n  f(::Int64, !Matched::Int64)\n   @ Main m:\\Escritorio\\Proyecto revista\\practice\\jl_notebook_cell_df34fa98e69747e1a8f8a730347b8e2f_X15sZmlsZQ==.jl:1\n  f(::Any)\n   @ Main m:\\Escritorio\\Proyecto revista\\practice\\jl_notebook_cell_df34fa98e69747e1a8f8a730347b8e2f_W1sZmlsZQ==.jl:1\n",
     "output_type": "error",
     "traceback": [
      "MethodError: no method matching f(::Int64, ::Float64)\n",
      "The function `f` exists, but no method is defined for this combination of argument types.\n",
      "\n",
      "Closest candidates are:\n",
      "  f(::Int64, !Matched::Int64)\n",
      "   @ Main m:\\Escritorio\\Proyecto revista\\practice\\jl_notebook_cell_df34fa98e69747e1a8f8a730347b8e2f_X15sZmlsZQ==.jl:1\n",
      "  f(::Any)\n",
      "   @ Main m:\\Escritorio\\Proyecto revista\\practice\\jl_notebook_cell_df34fa98e69747e1a8f8a730347b8e2f_W1sZmlsZQ==.jl:1\n",
      "\n",
      "\n",
      "Stacktrace:\n",
      " [1] top-level scope\n",
      "   @ m:\\Escritorio\\Proyecto revista\\practice\\jl_notebook_cell_df34fa98e69747e1a8f8a730347b8e2f_X15sZmlsZQ==.jl:2"
     ]
    }
   ],
   "source": [
    "f(x::Int, y::Int) = x + y\n",
    "f(5,5.55)"
   ]
  },
  {
   "cell_type": "code",
   "execution_count": 26,
   "id": "32ca9eca",
   "metadata": {},
   "outputs": [
    {
     "data": {
      "text/plain": [
       "Structures"
      ]
     },
     "metadata": {},
     "output_type": "display_data"
    }
   ],
   "source": [
    "mutable struct Structures\n",
    "    blackhole\n",
    "    in_edge::Float64\n",
    "    out_edge::Float64\n",
    "    corotating::Bool\n",
    "end\n",
    "\n",
    "function Structures(blackhole; R_min::Union{Nothing,Real}=nothing,\n",
    "                              R_max::Real=20.0,\n",
    "                              corotating::Bool=true)\n",
    "\n",
    "    # Aquí replicamos tus ifs de Python\n",
    "    local in_edge\n",
    "    if isnothing(R_min)\n",
    "        if corotating\n",
    "            in_edge = blackhole.ISCOco\n",
    "        else\n",
    "            in_edge = blackhole.ISCOcounter\n",
    "        end\n",
    "    else\n",
    "        in_edge = float(R_min)\n",
    "    end\n",
    "\n",
    "    Structure(blackhole, in_edge, float(R_max), corotating)\n",
    "end\n",
    "\n"
   ]
  },
  {
   "cell_type": "code",
   "execution_count": null,
   "id": "0a407c42",
   "metadata": {},
   "outputs": [],
   "source": []
  },
  {
   "cell_type": "code",
   "execution_count": 37,
   "id": "1ccd620b",
   "metadata": {},
   "outputs": [],
   "source": [
    "struct Counter\n",
    "    value::Int\n",
    "\n",
    "    function Counter(value::Int, start::Real=0)\n",
    "        value = Int(Start)\n",
    "        \n",
    "    end\n",
    "    function Counter(step::Real=1)\n",
    "        value += step\n",
    "    end\n",
    "end"
   ]
  },
  {
   "cell_type": "code",
   "execution_count": 32,
   "id": "4a3d7b1a",
   "metadata": {},
   "outputs": [
    {
     "data": {
      "text/plain": [
       "5.0"
      ]
     },
     "metadata": {},
     "output_type": "display_data"
    }
   ],
   "source": [
    "x = Float64(5)"
   ]
  },
  {
   "cell_type": "code",
   "execution_count": 34,
   "id": "67628a5d",
   "metadata": {},
   "outputs": [
    {
     "data": {
      "text/plain": [
       "Float64"
      ]
     },
     "metadata": {},
     "output_type": "display_data"
    }
   ],
   "source": [
    "typeof(x)"
   ]
  }
 ],
 "metadata": {
  "kernelspec": {
   "display_name": "Julia 1.11.4",
   "language": "julia",
   "name": "julia-1.11"
  },
  "language_info": {
   "file_extension": ".jl",
   "mimetype": "application/julia",
   "name": "julia",
   "version": "1.11.4"
  }
 },
 "nbformat": 4,
 "nbformat_minor": 5
}
